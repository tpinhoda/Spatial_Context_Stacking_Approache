{
 "cells": [
  {
   "cell_type": "code",
   "execution_count": 11,
   "metadata": {},
   "outputs": [],
   "source": [
    "import geopandas as gpd\n",
    "import pandas as pd\n",
    "import matplotlib.pyplot as plt\n",
    "import os\n",
    "import json\n",
    "from tqdm import tqdm"
   ]
  },
  {
   "cell_type": "code",
   "execution_count": 12,
   "metadata": {},
   "outputs": [],
   "source": [
    "dataset_folder = \"US_Wheat_2014_Removed_Kansas\"\n",
    "meshblock_filename = \"us_wheat_yield_2014.shp\"\n",
    "dataset_name = \"US_Wheat_Yield_2014\"\n",
    "data_id = \"INDEX\"\n",
    "meshblocks_id = \"GEOID\"\n",
    "data_path = f\"/home/tpinho/IJGIS/Datasets/{dataset_name}/{dataset_folder}/data.csv\"\n",
    "fold_path = f\"/home/tpinho/IJGIS/Datasets/{dataset_name}/{dataset_folder}/folds/\"\n",
    "meshblock_path = f\"/home/tpinho/IJGIS/Datasets/{dataset_name}/{dataset_folder}/meshblocks/{meshblock_filename}\"\n",
    "output_path = f\"/home/tpinho/IJGIS/Datasets/{dataset_name}/{dataset_folder}\""
   ]
  },
  {
   "cell_type": "code",
   "execution_count": 13,
   "metadata": {},
   "outputs": [],
   "source": [
    "methods_path = [os.path.join(fold_path,c) for c in os.listdir(fold_path)]\n",
    "#methods_path = ['/home/tpinho/IJGIS/Datasets/Brazil_Election_2018/Brazil_Election_2018_Sampled_dec0.3_prob0.5/folds/RegGBSCV_R_Kappa_0.5']"
   ]
  },
  {
   "cell_type": "code",
   "execution_count": 14,
   "metadata": {},
   "outputs": [],
   "source": [
    "def map_color(row):\n",
    "    if row['Type'] == 'discarded':\n",
    "        return '#AFABAB'\n",
    "    elif row['Type'] == 'test':\n",
    "        return '#9FC5E8'\n",
    "    elif row['Type'] == 'removing_buffer':\n",
    "        return '#EA9999'\n",
    "    elif row['Type'] == 'train':\n",
    "        return '#B6D7A8'\n",
    "    elif row[\"Type\"] == \"missing\":\n",
    "        return \"#ffffffff\"\n",
    "    else:\n",
    "        return '#ffffffff'\n"
   ]
  },
  {
   "cell_type": "code",
   "execution_count": 15,
   "metadata": {},
   "outputs": [
    {
     "name": "stderr",
     "output_type": "stream",
     "text": [
      "  0%|          | 0/14 [00:00<?, ?it/s]\n"
     ]
    },
    {
     "ename": "KeyError",
     "evalue": "\"None of ['GEOID'] are in the columns\"",
     "output_type": "error",
     "traceback": [
      "\u001b[0;31m---------------------------------------------------------------------------\u001b[0m",
      "\u001b[0;31mKeyError\u001b[0m                                  Traceback (most recent call last)",
      "\u001b[1;32m/home/tpinho/IJGIS/Graph-Based_Spatial_Cross_Validation/notebooks/7_generate_fold_plots.ipynb Cell 5'\u001b[0m in \u001b[0;36m<cell line: 1>\u001b[0;34m()\u001b[0m\n\u001b[1;32m      <a href='vscode-notebook-cell://ssh-remote%2Blabic01/home/tpinho/IJGIS/Graph-Based_Spatial_Cross_Validation/notebooks/7_generate_fold_plots.ipynb#ch0000004vscode-remote?line=1'>2</a>\u001b[0m fold_folders \u001b[39m=\u001b[39m [os\u001b[39m.\u001b[39mpath\u001b[39m.\u001b[39mjoin(method,c) \u001b[39mfor\u001b[39;00m c \u001b[39min\u001b[39;00m os\u001b[39m.\u001b[39mlistdir(method) \u001b[39mif\u001b[39;00m \u001b[39mnot\u001b[39;00m os\u001b[39m.\u001b[39mpath\u001b[39m.\u001b[39misfile(os\u001b[39m.\u001b[39mpath\u001b[39m.\u001b[39mjoin(method,c))]\n\u001b[1;32m      <a href='vscode-notebook-cell://ssh-remote%2Blabic01/home/tpinho/IJGIS/Graph-Based_Spatial_Cross_Validation/notebooks/7_generate_fold_plots.ipynb#ch0000004vscode-remote?line=2'>3</a>\u001b[0m meshblocks \u001b[39m=\u001b[39m gpd\u001b[39m.\u001b[39mread_file(meshblock_path)\n\u001b[0;32m----> <a href='vscode-notebook-cell://ssh-remote%2Blabic01/home/tpinho/IJGIS/Graph-Based_Spatial_Cross_Validation/notebooks/7_generate_fold_plots.ipynb#ch0000004vscode-remote?line=3'>4</a>\u001b[0m meshblocks\u001b[39m.\u001b[39;49mset_index(meshblocks_id, inplace\u001b[39m=\u001b[39;49m\u001b[39mTrue\u001b[39;49;00m)\n\u001b[1;32m      <a href='vscode-notebook-cell://ssh-remote%2Blabic01/home/tpinho/IJGIS/Graph-Based_Spatial_Cross_Validation/notebooks/7_generate_fold_plots.ipynb#ch0000004vscode-remote?line=4'>5</a>\u001b[0m data \u001b[39m=\u001b[39m pd\u001b[39m.\u001b[39mread_csv(data_path, index_col\u001b[39m=\u001b[39mdata_id)\n\u001b[1;32m      <a href='vscode-notebook-cell://ssh-remote%2Blabic01/home/tpinho/IJGIS/Graph-Based_Spatial_Cross_Validation/notebooks/7_generate_fold_plots.ipynb#ch0000004vscode-remote?line=5'>6</a>\u001b[0m missing \u001b[39m=\u001b[39m [idx \u001b[39mfor\u001b[39;00m idx \u001b[39min\u001b[39;00m meshblocks\u001b[39m.\u001b[39mindex \u001b[39mif\u001b[39;00m idx \u001b[39mnot\u001b[39;00m \u001b[39min\u001b[39;00m data\u001b[39m.\u001b[39mindex]\n",
      "File \u001b[0;32m~/miniconda3/envs/RegGBSCV/lib/python3.8/site-packages/pandas/util/_decorators.py:311\u001b[0m, in \u001b[0;36mdeprecate_nonkeyword_arguments.<locals>.decorate.<locals>.wrapper\u001b[0;34m(*args, **kwargs)\u001b[0m\n\u001b[1;32m    <a href='file:///home/tpinho/miniconda3/envs/RegGBSCV/lib/python3.8/site-packages/pandas/util/_decorators.py?line=304'>305</a>\u001b[0m \u001b[39mif\u001b[39;00m \u001b[39mlen\u001b[39m(args) \u001b[39m>\u001b[39m num_allow_args:\n\u001b[1;32m    <a href='file:///home/tpinho/miniconda3/envs/RegGBSCV/lib/python3.8/site-packages/pandas/util/_decorators.py?line=305'>306</a>\u001b[0m     warnings\u001b[39m.\u001b[39mwarn(\n\u001b[1;32m    <a href='file:///home/tpinho/miniconda3/envs/RegGBSCV/lib/python3.8/site-packages/pandas/util/_decorators.py?line=306'>307</a>\u001b[0m         msg\u001b[39m.\u001b[39mformat(arguments\u001b[39m=\u001b[39marguments),\n\u001b[1;32m    <a href='file:///home/tpinho/miniconda3/envs/RegGBSCV/lib/python3.8/site-packages/pandas/util/_decorators.py?line=307'>308</a>\u001b[0m         \u001b[39mFutureWarning\u001b[39;00m,\n\u001b[1;32m    <a href='file:///home/tpinho/miniconda3/envs/RegGBSCV/lib/python3.8/site-packages/pandas/util/_decorators.py?line=308'>309</a>\u001b[0m         stacklevel\u001b[39m=\u001b[39mstacklevel,\n\u001b[1;32m    <a href='file:///home/tpinho/miniconda3/envs/RegGBSCV/lib/python3.8/site-packages/pandas/util/_decorators.py?line=309'>310</a>\u001b[0m     )\n\u001b[0;32m--> <a href='file:///home/tpinho/miniconda3/envs/RegGBSCV/lib/python3.8/site-packages/pandas/util/_decorators.py?line=310'>311</a>\u001b[0m \u001b[39mreturn\u001b[39;00m func(\u001b[39m*\u001b[39;49margs, \u001b[39m*\u001b[39;49m\u001b[39m*\u001b[39;49mkwargs)\n",
      "File \u001b[0;32m~/miniconda3/envs/RegGBSCV/lib/python3.8/site-packages/pandas/core/frame.py:5488\u001b[0m, in \u001b[0;36mDataFrame.set_index\u001b[0;34m(self, keys, drop, append, inplace, verify_integrity)\u001b[0m\n\u001b[1;32m   <a href='file:///home/tpinho/miniconda3/envs/RegGBSCV/lib/python3.8/site-packages/pandas/core/frame.py?line=5484'>5485</a>\u001b[0m                 missing\u001b[39m.\u001b[39mappend(col)\n\u001b[1;32m   <a href='file:///home/tpinho/miniconda3/envs/RegGBSCV/lib/python3.8/site-packages/pandas/core/frame.py?line=5486'>5487</a>\u001b[0m \u001b[39mif\u001b[39;00m missing:\n\u001b[0;32m-> <a href='file:///home/tpinho/miniconda3/envs/RegGBSCV/lib/python3.8/site-packages/pandas/core/frame.py?line=5487'>5488</a>\u001b[0m     \u001b[39mraise\u001b[39;00m \u001b[39mKeyError\u001b[39;00m(\u001b[39mf\u001b[39m\u001b[39m\"\u001b[39m\u001b[39mNone of \u001b[39m\u001b[39m{\u001b[39;00mmissing\u001b[39m}\u001b[39;00m\u001b[39m are in the columns\u001b[39m\u001b[39m\"\u001b[39m)\n\u001b[1;32m   <a href='file:///home/tpinho/miniconda3/envs/RegGBSCV/lib/python3.8/site-packages/pandas/core/frame.py?line=5489'>5490</a>\u001b[0m \u001b[39mif\u001b[39;00m inplace:\n\u001b[1;32m   <a href='file:///home/tpinho/miniconda3/envs/RegGBSCV/lib/python3.8/site-packages/pandas/core/frame.py?line=5490'>5491</a>\u001b[0m     frame \u001b[39m=\u001b[39m \u001b[39mself\u001b[39m\n",
      "\u001b[0;31mKeyError\u001b[0m: \"None of ['GEOID'] are in the columns\""
     ]
    }
   ],
   "source": [
    "\n",
    "for method in tqdm(methods_path):\n",
    "    fold_folders = [os.path.join(method,c) for c in os.listdir(method) if not os.path.isfile(os.path.join(method,c))]\n",
    "    meshblocks = gpd.read_file(meshblock_path)\n",
    "    try:\n",
    "        meshblocks.set_index(meshblocks_id, inplace=True)\n",
    "    except KeyError:\n",
    "        pass\n",
    "    data = pd.read_csv(data_path, index_col=data_id)\n",
    "    missing = [idx for idx in meshblocks.index if idx not in data.index]\n",
    "    for fold_path in tqdm(fold_folders):\n",
    "        \n",
    "        meshblocks[\"Type\"] = [0] * len(meshblocks)\n",
    "        with open(os.path.join(fold_path, \"split_data.json\"), 'r') as fp:\n",
    "            split_data = json.load(fp)\n",
    "        split_data[\"missing\"] = missing\n",
    "        \n",
    "        for key in split_data.keys():\n",
    "            joiner_index = [idx for idx in split_data[key] if idx in meshblocks.index]\n",
    "            meshblocks.loc[joiner_index, \"Type\"] = key\n",
    "        \n",
    "        #meshblocks[\"Type\"].replace(0, \"train\", inplace=True)\n",
    "        fig, ax = plt.subplots(1, 1)\n",
    "        color_list = meshblocks.apply(lambda row: map_color(row), axis=1)\n",
    "        meshblocks.plot(categorical=True, \n",
    "                    color=color_list, \n",
    "                    linewidth=.05, \n",
    "                    edgecolor='white',\n",
    "                    legend=False, \n",
    "                    legend_kwds={'bbox_to_anchor': (.3, 1.05), \n",
    "                                    'fontsize': 16, \n",
    "                                    'frameon': False}, \n",
    "                    ax=ax)\n",
    "        plt.axis('off')\n",
    "        plt.savefig(os.path.join(fold_path, 'new_train_test_split.png'), dpi=1000)\n",
    "        plt.close()"
   ]
  }
 ],
 "metadata": {
  "interpreter": {
   "hash": "e5ceefaf46c1cc99a709a8fc918f5bcd228da7f5ea75d18ab15383937e22deaf"
  },
  "kernelspec": {
   "display_name": "Python 3.8.10 64-bit ('phd_gists': conda)",
   "name": "python3"
  },
  "language_info": {
   "codemirror_mode": {
    "name": "ipython",
    "version": 3
   },
   "file_extension": ".py",
   "mimetype": "text/x-python",
   "name": "python",
   "nbconvert_exporter": "python",
   "pygments_lexer": "ipython3",
   "version": "3.8.12"
  },
  "orig_nbformat": 4
 },
 "nbformat": 4,
 "nbformat_minor": 2
}
