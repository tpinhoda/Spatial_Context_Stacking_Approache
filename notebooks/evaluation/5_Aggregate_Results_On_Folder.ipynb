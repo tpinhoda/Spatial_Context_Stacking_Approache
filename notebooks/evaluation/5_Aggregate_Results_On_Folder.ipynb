{
 "cells": [
  {
   "cell_type": "code",
   "execution_count": 71,
   "metadata": {},
   "outputs": [],
   "source": [
    "from os.path import join\n",
    "from os import mkdir\n",
    "import pandas as pd\n",
    "from tqdm import tqdm\n",
    "import shutil"
   ]
  },
  {
   "cell_type": "code",
   "execution_count": 72,
   "metadata": {},
   "outputs": [],
   "source": [
    "def _mkdir(dir, folder_name: str) -> None:\n",
    "        \"\"\"Creates a folder at current path\"\"\"\n",
    "        # logger = logging.getLogger(self.logger_name)\n",
    "        dir = join(dir, folder_name)\n",
    "        try:\n",
    "            mkdir(dir)\n",
    "            # logger.info(f\"Creating folder: /{folder_name}\")\n",
    "        except FileExistsError:\n",
    "            pass\n",
    "            # logger.info(f\"Entering folder: /{folder_name}\")\n",
    "        return dir"
   ]
  },
  {
   "cell_type": "code",
   "execution_count": 73,
   "metadata": {},
   "outputs": [],
   "source": [
    "brazil_datasets = [\"Brazil_Election_2018_Sampled_dec0.3_prob0.1\",\n",
    "                   \"Brazil_Election_2018_Sampled_dec0.3_prob0.2\",\n",
    "                   \"Brazil_Election_2018_Sampled_dec0.3_prob0.3\",\n",
    "                   \"Brazil_Election_2018_Sampled_dec0.3_prob0.4\",\n",
    "                   \"Brazil_Election_2018_Sampled_dec0.3_prob0.5\",\n",
    "                   \"Brazil_Election_2018_Sampled_dec0.3_prob0.6\",\n",
    "                   \"Brazil_Election_2018_Sampled_dec0.3_prob0.7\",\n",
    "                   \"Brazil_Election_2018_Sampled_dec0.3_prob0.8\",\n",
    "                   \"Brazil_Election_2018_Sampled_dec0.3_prob0.9\",\n",
    "                  ]\n",
    "us_corn_datasets = [\"US_Corn_Yield_2016_Removed_Northeast\",\n",
    "                    \"US_Corn_Yield_2016_Removed_Southeast\",\n",
    "                    \"US_Corn_Yield_2016_Removed_Midwest\",\n",
    "                    \"US_Corn_Yield_2016_Removed_Southwest\",\n",
    "                    \"US_Corn_Yield_2016_Removed_West\"]\n",
    "\n",
    "us_wheat_datasets = [\"US_Wheat_2014_Removed_Kansas\",\n",
    "                    \"US_Wheat_2014_Removed_Montana\",\n",
    "                    \"US_Wheat_2014_Removed_Oklahoma\",\n",
    "                    \"US_Wheat_2014_Removed_Texas\",\n",
    "                    \"US_Wheat_2014_Removed_Washington\"]\n",
    "\n",
    "australia_datasets = [\"Australia_Election_2019_Sampled_dec0.05_prob0.1\",\n",
    "                \"Australia_Election_2019_Sampled_dec0.05_prob0.2\",\n",
    "                \"Australia_Election_2019_Sampled_dec0.05_prob0.3\",\n",
    "                \"Australia_Election_2019_Sampled_dec0.05_prob0.4\",\n",
    "                \"Australia_Election_2019_Sampled_dec0.05_prob0.5\",\n",
    "                \"Australia_Election_2019_Sampled_dec0.05_prob0.6\",\n",
    "                \"Australia_Election_2019_Sampled_dec0.05_prob0.7\",\n",
    "                \"Australia_Election_2019_Sampled_dec0.05_prob0.8\",\n",
    "                \"Australia_Election_2019_Sampled_dec0.05_prob0.9\"]"
   ]
  },
  {
   "cell_type": "code",
   "execution_count": 74,
   "metadata": {},
   "outputs": [],
   "source": [
    "\n",
    "\n",
    "results_path = \"/home/tpinho/IJGIS/Results\"\n",
    "dataset_path = \"/home/tpinho/IJGIS/Datasets\"\n",
    "dataset_name = \"US_Wheat_Yield_2014\"\n",
    "ds_list = us_wheat_datasets"
   ]
  },
  {
   "cell_type": "code",
   "execution_count": 75,
   "metadata": {},
   "outputs": [
    {
     "name": "stderr",
     "output_type": "stream",
     "text": [
      "100%|██████████| 5/5 [00:00<00:00, 45.31it/s]\n"
     ]
    }
   ],
   "source": [
    "ds_result_path = _mkdir(results_path, dataset_name)\n",
    "rmse_path = _mkdir(ds_result_path, \"RMSE\")\n",
    "rank_path = _mkdir(ds_result_path, \"Rank\")\n",
    "for dataset in tqdm(ds_list):\n",
    "    path_ds = join(dataset_path, dataset_name, dataset)\n",
    "    out_sample = pd.read_csv(join(path_ds, \"out_of_sample_error.csv\"), index_col=\"methods\")\n",
    "    rmse = pd.read_csv(join(path_ds, \"comparison\", \"RMSE.csv\"), index_col=\"Method\")\n",
    "    rank = pd.read_csv(join(path_ds, \"comparison\", \"Rank.csv\"), index_col=\"Method\")\n",
    "    cols_reorg = rmse.columns.to_list()\n",
    "    rmse[\"Out Sample\"] = out_sample[\"mean\"]\n",
    "    rank[\"Out Sample\"] = out_sample[\"rank\"]\n",
    "    cols_reorg = [\"Out Sample\"] + cols_reorg\n",
    "    \n",
    "    shutil.copyfile(join(dataset_path, dataset_name, \"Rank_Dist.csv\"), join(ds_result_path, \"Rank_Dist.csv\"))\n",
    "    shutil.copyfile(join(dataset_path, dataset_name, \"rank_dist.jpg\"), join(ds_result_path, \"Rank_Dist.jpg\"))\n",
    "    rmse[cols_reorg].to_csv(join(rmse_path, f\"{dataset}.csv\"))\n",
    "    rank[cols_reorg].to_csv(join(rank_path, f\"{dataset}.csv\"))"
   ]
  }
 ],
 "metadata": {
  "interpreter": {
   "hash": "a61c6142992f866a8cf4748759f5d3c56e0a281866e239fdaf1841f49fe45dcf"
  },
  "kernelspec": {
   "display_name": "Python 3.8.12 ('RegGBSCV')",
   "language": "python",
   "name": "python3"
  },
  "language_info": {
   "codemirror_mode": {
    "name": "ipython",
    "version": 3
   },
   "file_extension": ".py",
   "mimetype": "text/x-python",
   "name": "python",
   "nbconvert_exporter": "python",
   "pygments_lexer": "ipython3",
   "version": "3.8.12"
  },
  "orig_nbformat": 4
 },
 "nbformat": 4,
 "nbformat_minor": 2
}
