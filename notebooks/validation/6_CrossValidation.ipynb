{
 "cells": [
  {
   "cell_type": "markdown",
   "metadata": {},
   "source": [
    "# Execute the Graph-Based Spatial Cross-Validation experiments from ICMLA21 Paper"
   ]
  },
  {
   "cell_type": "markdown",
   "metadata": {},
   "source": [
    "## 1 - Initialize libraries"
   ]
  },
  {
   "cell_type": "code",
   "execution_count": 7,
   "metadata": {},
   "outputs": [],
   "source": [
    "import os\n",
    "import pandas as pd\n",
    "from weka.core import jvm\n",
    "from pathlib import Path\n",
    "from src import utils\n",
    "from src.pipeline import Pipeline\n",
    "from src.visualization.performance import VizMetrics\n",
    "from src.visualization.dependence import VizDependence"
   ]
  },
  {
   "cell_type": "markdown",
   "metadata": {},
   "source": [
    "## 2 - Initialize loggers"
   ]
  },
  {
   "cell_type": "code",
   "execution_count": 8,
   "metadata": {},
   "outputs": [],
   "source": [
    "utils.initialize_coloredlog()\n",
    "utils.initialize_rich_tracerback()\n",
    "utils.initialize_logging()"
   ]
  },
  {
   "cell_type": "markdown",
   "metadata": {},
   "source": [
    "## 3 - Initialize working path and enviromental variables"
   ]
  },
  {
   "cell_type": "code",
   "execution_count": 9,
   "metadata": {},
   "outputs": [],
   "source": [
    "# Project path\n",
    "project_dir = str(Path().resolve().parents[1])\n",
    "# Load enviromental variables\n",
    "env_var = utils.load_env_variables(project_dir)\n",
    "# Load parameters\n",
    "dataset = \"Brazil_Election_2018\"\n",
    "parameters = utils.load_json(os.path.join(project_dir, \"parameters\", \"validation\", f\"{dataset}.json\"))"
   ]
  },
  {
   "cell_type": "markdown",
   "metadata": {},
   "source": [
    "## 4 - Set pipeline switchers, the default is to set True to all processes"
   ]
  },
  {
   "cell_type": "code",
   "execution_count": 10,
   "metadata": {},
   "outputs": [],
   "source": [
    "# Set pipeline switchers\n",
    "switchers = {\n",
    "    \"scv\": False,\n",
    "    \"fs\": True,\n",
    "    \"train\": False,\n",
    "    \"predict\": False,\n",
    "    \"evaluate\": False,\n",
    "}"
   ]
  },
  {
   "cell_type": "markdown",
   "metadata": {},
   "source": [
    "# 5 - List all datasets"
   ]
  },
  {
   "cell_type": "code",
   "execution_count": 11,
   "metadata": {},
   "outputs": [],
   "source": [
    "dataset_path = os.path.join(env_var[\"root_path\"], dataset)\n",
    "dataset_list = [folder for folder in os.listdir(dataset_path) if os.path.isdir(os.path.join(dataset_path, folder))]\n",
    "dataset_list.remove(\"Original\")\n",
    "dataset_list.sort()"
   ]
  },
  {
   "cell_type": "markdown",
   "metadata": {},
   "source": [
    "## 6 - Runs the pipeline for Optmistic approach\n",
    "OBS: The results and files generated from the pipeline execution will be in the created folder Results in the data directory"
   ]
  },
  {
   "cell_type": "code",
   "execution_count": 12,
   "metadata": {},
   "outputs": [
    {
     "name": "stdout",
     "output_type": "stream",
     "text": [
      "Running the Cross-Valdiation approach for dataset: US_Corn_Yield_2016_Removed_Northeast ML Method = KNN\n"
     ]
    },
    {
     "name": "stderr",
     "output_type": "stream",
     "text": [
      "Selecting Features: 100%|██████████| 10/10 [00:00<00:00, 190.90it/s]\n"
     ]
    },
    {
     "name": "stdout",
     "output_type": "stream",
     "text": [
      "Running the Cross-Valdiation approach for dataset: US_Corn_Yield_2016_Removed_Southeast ML Method = KNN\n"
     ]
    },
    {
     "name": "stderr",
     "output_type": "stream",
     "text": [
      "Selecting Features: 100%|██████████| 10/10 [00:00<00:00, 201.41it/s]\n"
     ]
    },
    {
     "name": "stdout",
     "output_type": "stream",
     "text": [
      "Running the Cross-Valdiation approach for dataset: US_Corn_Yield_2016_Removed_Midwest ML Method = KNN\n"
     ]
    },
    {
     "name": "stderr",
     "output_type": "stream",
     "text": [
      "Selecting Features: 100%|██████████| 10/10 [00:00<00:00, 158.19it/s]\n"
     ]
    },
    {
     "name": "stdout",
     "output_type": "stream",
     "text": [
      "Running the Cross-Valdiation approach for dataset: US_Corn_Yield_2016_Removed_Southwest ML Method = KNN\n"
     ]
    },
    {
     "name": "stderr",
     "output_type": "stream",
     "text": [
      "Selecting Features: 100%|██████████| 10/10 [00:00<00:00, 158.57it/s]\n"
     ]
    },
    {
     "name": "stdout",
     "output_type": "stream",
     "text": [
      "Running the Cross-Valdiation approach for dataset: US_Corn_Yield_2016_Removed_West ML Method = KNN\n"
     ]
    },
    {
     "name": "stderr",
     "output_type": "stream",
     "text": [
      "Selecting Features: 100%|██████████| 10/10 [00:00<00:00, 167.80it/s]\n"
     ]
    }
   ],
   "source": [
    "\n",
    "fs_method = parameters[\"fs_method\"]\n",
    "ml_methods = parameters[\"ml_methods\"]\n",
    "dataset_path = os.path.join(env_var[\"root_path\"], dataset)\n",
    "if fs_method == \"CFS\" and switchers[\"fs\"]:\n",
    "    jvm.start()\n",
    "\n",
    "for dataset in dataset_list:\n",
    "    # Load the data\n",
    "    data_path = os.path.join(dataset_path, dataset, \"data.csv\")\n",
    "    data = pd.read_csv(data_path, index_col=\"INDEX\", low_memory=False)\n",
    "    if parameters[\"cols_remove\"]:\n",
    "        data.drop(columns=parameters[\"cols_remove\"], inplace=True)\n",
    "    for ml_method in ml_methods:\n",
    "        CrossValidation= Pipeline(\n",
    "            root_path=os.path.join(dataset_path, dataset),\n",
    "            data=data,\n",
    "            index_col=parameters[\"index_col\"],\n",
    "            fold_col=parameters[\"fold_col\"],\n",
    "            target_col=parameters[\"target_col\"],\n",
    "            scv_method=\"CrossValidation\",\n",
    "            fs_method=fs_method,\n",
    "            ml_method=ml_method,\n",
    "            switchers=switchers\n",
    "        )\n",
    "        print(f\"Running the Cross-Valdiation approach for dataset: {dataset} ML Method = {ml_method}\")\n",
    "        CrossValidation.run()\n",
    "if fs_method == \"CFS\" and switchers[\"fs\"]:\n",
    "    jvm.stop()"
   ]
  }
 ],
 "metadata": {
  "interpreter": {
   "hash": "16e306bc925144e33eb7798286ee39e98b4eae36f3b0781ec31a8ce823bfdc1b"
  },
  "kernelspec": {
   "display_name": "Python 3 (ipykernel)",
   "language": "python",
   "name": "python3"
  },
  "language_info": {
   "codemirror_mode": {
    "name": "ipython",
    "version": 3
   },
   "file_extension": ".py",
   "mimetype": "text/x-python",
   "name": "python",
   "nbconvert_exporter": "python",
   "pygments_lexer": "ipython3",
   "version": "3.9.12"
  }
 },
 "nbformat": 4,
 "nbformat_minor": 4
}
