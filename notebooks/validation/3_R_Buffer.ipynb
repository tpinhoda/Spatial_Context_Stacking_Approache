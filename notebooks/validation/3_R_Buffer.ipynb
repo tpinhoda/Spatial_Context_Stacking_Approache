{
 "cells": [
  {
   "cell_type": "markdown",
   "metadata": {},
   "source": [
    "# Execute the Graph-Based Spatial Cross-Validation experiments from ICMLA21 Paper"
   ]
  },
  {
   "cell_type": "markdown",
   "metadata": {},
   "source": [
    "## 1 - Initialize libraries"
   ]
  },
  {
   "cell_type": "code",
   "execution_count": 1,
   "metadata": {},
   "outputs": [],
   "source": [
    "import os\n",
    "import pandas as pd\n",
    "from src import utils\n",
    "from src.pipeline import Pipeline\n",
    "from src.visualization.performance import VizMetrics\n",
    "from src.visualization.dependence import VizDependence"
   ]
  },
  {
   "cell_type": "markdown",
   "metadata": {},
   "source": [
    "## 2 - Initialize loggers"
   ]
  },
  {
   "cell_type": "code",
   "execution_count": 2,
   "metadata": {},
   "outputs": [],
   "source": [
    "utils.initialize_coloredlog()\n",
    "utils.initialize_rich_tracerback()\n",
    "utils.initialize_logging()"
   ]
  },
  {
   "cell_type": "markdown",
   "metadata": {},
   "source": [
    "## 3 - Initialize working path and enviromental variables"
   ]
  },
  {
   "cell_type": "code",
   "execution_count": 3,
   "metadata": {},
   "outputs": [],
   "source": [
    "# Project path\n",
    "project_dir = os.path.abspath('')[:-5]\n",
    "# Load enviromental variables\n",
    "env_var = utils.load_env_variables(project_dir)"
   ]
  },
  {
   "cell_type": "markdown",
   "metadata": {},
   "source": [
    "## 4 - Load the data"
   ]
  },
  {
   "cell_type": "code",
   "execution_count": 4,
   "metadata": {},
   "outputs": [
    {
     "data": {
      "text/plain": [
       "Index(['INDEX_FOLDS', 'TARGET', '[CENSUS]_DOMICILIO01_V002',\n",
       "       '[CENSUS]_DOMICILIO01_V003', '[CENSUS]_DOMICILIO01_V004',\n",
       "       '[CENSUS]_DOMICILIO01_V005', '[CENSUS]_DOMICILIO01_V006',\n",
       "       '[CENSUS]_DOMICILIO01_V007', '[CENSUS]_DOMICILIO01_V008',\n",
       "       '[CENSUS]_DOMICILIO01_V009',\n",
       "       ...\n",
       "       '[CENSUS]_RESPONSAVELRENDA_V123', '[CENSUS]_RESPONSAVELRENDA_V124',\n",
       "       '[CENSUS]_RESPONSAVELRENDA_V125', '[CENSUS]_RESPONSAVELRENDA_V126',\n",
       "       '[CENSUS]_RESPONSAVELRENDA_V127', '[CENSUS]_RESPONSAVELRENDA_V128',\n",
       "       '[CENSUS]_RESPONSAVELRENDA_V129', '[CENSUS]_RESPONSAVELRENDA_V130',\n",
       "       '[CENSUS]_RESPONSAVELRENDA_V131', '[CENSUS]_RESPONSAVELRENDA_V132'],\n",
       "      dtype='object', length=4000)"
      ]
     },
     "execution_count": 4,
     "metadata": {},
     "output_type": "execute_result"
    }
   ],
   "source": [
    "# Set paths\n",
    "data_path = os.path.join(env_var[\"root_path\"], \"data.csv\")\n",
    "adj_path = os.path.join(env_var[\"root_path\"], \"queen_matrix.csv\")\n",
    "# Load data\n",
    "data = pd.read_csv(data_path, index_col=\"INDEX\", low_memory=False)\n",
    "#data.drop(columns=[\"[GEO]_LATITUDE\", \"[GEO]_LONGITUDE\"])\n",
    "adj_matrix = pd.read_csv(adj_path, low_memory=False)\n",
    "# Set adjacency matrix index\n",
    "adj_matrix.set_index(adj_matrix.columns[0], inplace=True)"
   ]
  },
  {
   "cell_type": "markdown",
   "metadata": {},
   "source": [
    "## 5 - Set pipeline switchers, the default is to set True to all processes"
   ]
  },
  {
   "cell_type": "code",
   "execution_count": 5,
   "metadata": {},
   "outputs": [],
   "source": [
    "# Set pipeline switchers\n",
    "SWITCHERS = {\n",
    "    \"scv\": True,\n",
    "    \"fs\": True,\n",
    "    \"train\": True,\n",
    "    \"predict\": True,\n",
    "    \"evaluate\": True,\n",
    "}"
   ]
  },
  {
   "cell_type": "markdown",
   "metadata": {},
   "source": [
    "## 6 - Runs the pipeline for each method\n",
    "OBS: The results and files generated from the pipeline execution will be in the created folder Results in the data directory"
   ]
  },
  {
   "cell_type": "markdown",
   "metadata": {},
   "source": [
    "### 6.3 RBuffer"
   ]
  },
  {
   "cell_type": "code",
   "execution_count": 6,
   "metadata": {},
   "outputs": [
    {
     "name": "stdout",
     "output_type": "stream",
     "text": [
      "Running the RBuffer approach...\n"
     ]
    },
    {
     "name": "stderr",
     "output_type": "stream",
     "text": [
      "Creating folds: 100%|██████████| 27/27 [19:44<00:00, 43.87s/it]\n",
      "\u001b[32m2021-11-03 20:20:10\u001b[0m \u001b[35mDESKTOP-117CMAH\u001b[0m \u001b[34mroot[48500]\u001b[0m \u001b[1;30mINFO\u001b[0m Starting JVM to execute Weka CFS.\n",
      "\u001b[32m2021-11-03 20:20:10\u001b[0m \u001b[35mDESKTOP-117CMAH\u001b[0m \u001b[34mroot[48500]\u001b[0m \u001b[1;30mWARNING\u001b[0m \u001b[33mSome warnings may appear.\u001b[0m\n"
     ]
    },
    {
     "name": "stdout",
     "output_type": "stream",
     "text": [
      "Execution time: 1187.3683142662048 seconds\n"
     ]
    },
    {
     "name": "stderr",
     "output_type": "stream",
     "text": [
      "Selecting Features: 100%|██████████| 27/27 [1:44:01<00:00, 231.17s/it]\n",
      "Training model: 100%|██████████| 27/27 [00:16<00:00,  1.68it/s]\n",
      "Predicting test set: 100%|██████████| 27/27 [00:04<00:00,  5.43it/s]\n",
      "Evaluating predictions: 100%|██████████| 27/27 [00:06<00:00,  4.16it/s]\n"
     ]
    }
   ],
   "source": [
    "RBuffer = Pipeline(\n",
    "    root_path=env_var[\"root_path\"],\n",
    "    data=data,\n",
    "    adj_matrix=adj_matrix,\n",
    "    index_col=\"INDEX\",\n",
    "    fold_col=\"INDEX_FOLDS\",\n",
    "    target_col=\"TARGET\",\n",
    "    scv_method=\"RBuffer\",\n",
    "    run_selection=False,\n",
    "    kappa=20,\n",
    "    fs_method=\"CFS\",\n",
    "    ml_method=\"LGBM\",\n",
    "    paper=True,\n",
    "    switchers=SWITCHERS\n",
    ")\n",
    "\n",
    "print(\"Running the RBuffer approach...\")\n",
    "RBuffer.run()"
   ]
  }
 ],
 "metadata": {
  "interpreter": {
   "hash": "16e306bc925144e33eb7798286ee39e98b4eae36f3b0781ec31a8ce823bfdc1b"
  },
  "kernelspec": {
   "display_name": "Python 3.8.12 64-bit ('graph_based_scv': conda)",
   "name": "python3"
  },
  "language_info": {
   "codemirror_mode": {
    "name": "ipython",
    "version": 3
   },
   "file_extension": ".py",
   "mimetype": "text/x-python",
   "name": "python",
   "nbconvert_exporter": "python",
   "pygments_lexer": "ipython3",
   "version": "3.8.12"
  },
  "orig_nbformat": 4
 },
 "nbformat": 4,
 "nbformat_minor": 2
}
