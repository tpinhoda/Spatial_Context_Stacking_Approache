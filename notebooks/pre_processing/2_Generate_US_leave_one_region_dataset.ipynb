{
 "cells": [
  {
   "cell_type": "code",
   "execution_count": 11,
   "metadata": {},
   "outputs": [],
   "source": [
    "import contextlib\n",
    "from distutils.dir_util import copy_tree\n",
    "import shutil\n",
    "from os.path import join\n",
    "from os import mkdir\n",
    "import geopandas as gpd\n",
    "import pandas as pd\n",
    "import numpy as np\n",
    "from tqdm import tqdm\n",
    "import json\n",
    "from random import random"
   ]
  },
  {
   "cell_type": "code",
   "execution_count": 12,
   "metadata": {},
   "outputs": [],
   "source": [
    "dataset_folder = \"Original\"\n",
    "data_id = \"INDEX\"\n",
    "fold_col = \"INDEX_FOLDS\"\n",
    "target_col = \"TARGET\"\n",
    "output_folder = \"US_Corn_Yield_2016_Removed_\"\n",
    "root_path =  \"/exp/tpinho/Datasets/US_Corn_Yield_2016\"\n",
    "data_path = f\"/exp/tpinho/Datasets/US_Corn_Yield_2016/{dataset_folder}/data.csv\"\n",
    "meshblock_folder = join(root_path, dataset_folder, \"meshblocks\")"
   ]
  },
  {
   "cell_type": "code",
   "execution_count": 13,
   "metadata": {},
   "outputs": [],
   "source": [
    "def _mkdir(dir, folder_name: str) -> None:  # sourcery skip: avoid-builtin-shadow\n",
    "        \"\"\"Creates a folder at current path\"\"\"\n",
    "        dir = join(dir, folder_name)\n",
    "        with contextlib.suppress(FileExistsError):\n",
    "                mkdir(dir)\n",
    "        return dir\n",
    "\n",
    "regions = {\"Northeast\": [\"Maine\", \"Massachusetts\", \"Rhode Island\", \"Connecticut\", \"New Hampshire\", \"Vermont\", \"New York\", \"Pennsylvania\", \"New Jersey\", \"Delaware\", \"Maryland\"],\n",
    "           \"Southeast\": [\"West Virginia\", \"Virginia\", \"Kentucky\", \"Tennessee\", \"North Carolina\", \"South Carolina\", \"Georgia\", \"Alabama\", \"Mississippi\", \"Arkansas\", \"Louisiana\", \"Florida\"],\n",
    "           \"Midwest\": [\"Ohio\", \"Indiana\", \"Michigan\", \"Illinois\", \"Missouri\", \"Wisconsin\", \"Minnesota\", \"Iowa\", \"Kansas\", \"Nebraska\", \"South Dakota\", \"North Dakota\"],\n",
    "           \"Southwest\": [\"Texas\", \"Oklahoma\", \"New Mexico\", \"Arizona\"],\n",
    "           \"West\": [\"Colorado\", \"Wyoming\", \"Montana\", \"Idaho\", \"Washington\", \"Oregon\", \"Utah\", \"Nevada\", \"California\", \"Alaska\", \"Hawaii\"]\n",
    "          }\n",
    "for region in regions:\n",
    "        regions[region] = [x.upper() for x in regions[region]]\n"
   ]
  },
  {
   "cell_type": "code",
   "execution_count": 14,
   "metadata": {},
   "outputs": [
    {
     "name": "stderr",
     "output_type": "stream",
     "text": [
      "100%|██████████| 5/5 [02:05<00:00, 25.17s/it]\n"
     ]
    }
   ],
   "source": [
    "\n",
    "data = pd.read_csv(join(root_path, dataset_folder, \"data.csv\"), index_col=data_id)\n",
    "\n",
    "\n",
    "for region in tqdm(regions):\n",
    "    output_path = _mkdir(root_path, output_folder + region)\n",
    "    copy_tree(meshblock_folder, join(output_path,\"meshblocks\"))\n",
    "    shutil.copyfile(join(root_path, dataset_folder, \"normd_matrix.csv\"), join(output_path, \"normd_matrix.csv\"))\n",
    "    shutil.copyfile(join(root_path, dataset_folder, \"queen_matrix.csv\"), join(output_path, \"queen_matrix.csv\"))\n",
    "    data_sampled = data[~data[fold_col].isin(regions[region])].copy()\n",
    "    data_sampled.to_csv(join(output_path, \"data.csv\"), index=True)\n",
    "    "
   ]
  }
 ],
 "metadata": {
  "interpreter": {
   "hash": "7dd48b90f521e50bd680e5bbc2f4a629183dec404cd6ea66796a3d6092549ff1"
  },
  "kernelspec": {
   "display_name": "Python 3.8.10 ('phd_gists')",
   "language": "python",
   "name": "python3"
  },
  "language_info": {
   "codemirror_mode": {
    "name": "ipython",
    "version": 3
   },
   "file_extension": ".py",
   "mimetype": "text/x-python",
   "name": "python",
   "nbconvert_exporter": "python",
   "pygments_lexer": "ipython3",
   "version": "3.9.12"
  },
  "orig_nbformat": 4
 },
 "nbformat": 4,
 "nbformat_minor": 2
}
