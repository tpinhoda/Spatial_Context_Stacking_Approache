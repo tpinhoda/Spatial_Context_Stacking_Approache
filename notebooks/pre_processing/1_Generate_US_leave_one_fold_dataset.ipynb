{
 "cells": [
  {
   "cell_type": "code",
   "execution_count": 5,
   "metadata": {},
   "outputs": [],
   "source": [
    "import contextlib\n",
    "from distutils.dir_util import copy_tree\n",
    "import shutil\n",
    "from os.path import join\n",
    "from os import mkdir\n",
    "import geopandas as gpd\n",
    "import pandas as pd\n",
    "import numpy as np\n",
    "from tqdm import tqdm\n",
    "import json\n",
    "from random import random"
   ]
  },
  {
   "cell_type": "code",
   "execution_count": 6,
   "metadata": {},
   "outputs": [],
   "source": [
    "dataset_folder = \"Original\"\n",
    "data_id = \"INDEX\"\n",
    "fold_col = \"INDEX_FOLDS\"\n",
    "target_col = \"TARGET\"\n",
    "output_folder = \"US_Corn_Yield_2016_Removed_\"\n",
    "root_path =  \"/exp/tpinho/Datasets/US_Corn_Yield_2016\"\n",
    "data_path = f\"/exp/tpinho/Datasets/US_Corn_Yield_2016/{dataset_folder}/data.csv\"\n",
    "meshblock_folder = join(root_path, dataset_folder, \"meshblocks\")"
   ]
  },
  {
   "cell_type": "code",
   "execution_count": 2,
   "metadata": {},
   "outputs": [],
   "source": [
    "def _mkdir(dir, folder_name: str) -> None:  # sourcery skip: avoid-builtin-shadow\n",
    "        \"\"\"Creates a folder at current path\"\"\"\n",
    "        dir = join(dir, folder_name)\n",
    "        with contextlib.suppress(FileExistsError):\n",
    "                mkdir(dir)\n",
    "        return dir\n"
   ]
  },
  {
   "cell_type": "code",
   "execution_count": 8,
   "metadata": {},
   "outputs": [
    {
     "name": "stderr",
     "output_type": "stream",
     "text": [
      "100%|██████████| 36/36 [15:29<00:00, 25.83s/it]\n"
     ]
    }
   ],
   "source": [
    "\n",
    "data = pd.read_csv(join(root_path, dataset_folder, \"data.csv\"), index_col=data_id)\n",
    "\n",
    "\n",
    "for fold_name, data_fold in tqdm(data.groupby(by=fold_col)):\n",
    "    output_path = _mkdir(root_path, output_folder + fold_name)\n",
    "    copy_tree(meshblock_folder, join(output_path,\"meshblocks\"))\n",
    "    shutil.copyfile(join(root_path, dataset_folder, \"normd_matrix.csv\"), join(output_path, \"normd_matrix.csv\"))\n",
    "    shutil.copyfile(join(root_path, dataset_folder, \"queen_matrix.csv\"), join(output_path, \"queen_matrix.csv\"))\n",
    "    data_sampled = data.drop(index=data_fold.index)\n",
    "    data_sampled.to_csv(join(output_path, \"data.csv\"), index=True)\n",
    "    "
   ]
  }
 ],
 "metadata": {
  "interpreter": {
   "hash": "7dd48b90f521e50bd680e5bbc2f4a629183dec404cd6ea66796a3d6092549ff1"
  },
  "kernelspec": {
   "display_name": "Python 3.8.10 ('phd_gists')",
   "language": "python",
   "name": "python3"
  },
  "language_info": {
   "codemirror_mode": {
    "name": "ipython",
    "version": 3
   },
   "file_extension": ".py",
   "mimetype": "text/x-python",
   "name": "python",
   "nbconvert_exporter": "python",
   "pygments_lexer": "ipython3",
   "version": "3.9.12"
  },
  "orig_nbformat": 4
 },
 "nbformat": 4,
 "nbformat_minor": 2
}
